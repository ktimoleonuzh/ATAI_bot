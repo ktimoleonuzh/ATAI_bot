{
 "cells": [
  {
   "cell_type": "code",
   "execution_count": 1,
   "metadata": {},
   "outputs": [
    {
     "name": "stderr",
     "output_type": "stream",
     "text": [
      "c:\\Users\\Nadia Timoleon\\.conda\\envs\\atai_bot\\lib\\site-packages\\tqdm\\auto.py:21: TqdmWarning: IProgress not found. Please update jupyter and ipywidgets. See https://ipywidgets.readthedocs.io/en/stable/user_install.html\n",
      "  from .autonotebook import tqdm as notebook_tqdm\n"
     ]
    }
   ],
   "source": [
    "from src.preprocessing.prepare_data import (\n",
    "    download_graph,\n",
    "    download_crowd_data,\n",
    "    download_embeddings,\n",
    "    download_image_data,\n",
    "    find_movie_predicates,\n",
    "    update_predicate_dict_with_crowd_data,\n",
    "    generate_label_mappings,\n",
    "    generate_special_movies,\n",
    "    main\n",
    ")"
   ]
  },
  {
   "cell_type": "code",
   "execution_count": 2,
   "metadata": {},
   "outputs": [
    {
     "name": "stderr",
     "output_type": "stream",
     "text": [
      "data/ddis/graph.zip: 100%|##########| 13.8M/13.8M [00:24<00:00, 552kB/s] \n"
     ]
    },
    {
     "name": "stdout",
     "output_type": "stream",
     "text": [
      "Downloaded and extracted file to data/ddis/.\n"
     ]
    }
   ],
   "source": [
    "download_graph()"
   ]
  },
  {
   "cell_type": "code",
   "execution_count": 4,
   "metadata": {},
   "outputs": [
    {
     "name": "stderr",
     "output_type": "stream",
     "text": [
      "data/ddis/images.json.zip: 100%|##########| 81.3M/81.3M [00:44<00:00, 1.83MB/s]\n"
     ]
    },
    {
     "name": "stdout",
     "output_type": "stream",
     "text": [
      "Downloaded and extracted file to data/ddis/.\n"
     ]
    }
   ],
   "source": [
    "download_image_data()"
   ]
  },
  {
   "cell_type": "code",
   "execution_count": 5,
   "metadata": {},
   "outputs": [
    {
     "name": "stderr",
     "output_type": "stream",
     "text": [
      "data/ddis/crowd_data.tsv: 100%|##########| 41.7k/41.7k [00:00<00:00, 3.15MB/s]"
     ]
    },
    {
     "name": "stdout",
     "output_type": "stream",
     "text": [
      "Downloaded crowd data to data/ddis/crowd_data.tsv.\n"
     ]
    },
    {
     "name": "stderr",
     "output_type": "stream",
     "text": [
      "\n"
     ]
    }
   ],
   "source": [
    "download_crowd_data()"
   ]
  },
  {
   "cell_type": "code",
   "execution_count": 6,
   "metadata": {},
   "outputs": [
    {
     "name": "stderr",
     "output_type": "stream",
     "text": [
      "data/ddis/graph-embeddings.zip: 100%|##########| 153M/153M [01:05<00:00, 2.32MB/s] \n"
     ]
    },
    {
     "name": "stdout",
     "output_type": "stream",
     "text": [
      "Downloaded and extracted file to data/ddis/embeddings.\n"
     ]
    }
   ],
   "source": [
    "download_embeddings()"
   ]
  },
  {
   "cell_type": "code",
   "execution_count": 2,
   "metadata": {},
   "outputs": [
    {
     "name": "stdout",
     "output_type": "stream",
     "text": [
      "--- Loading graph from data/ddis/14_graph.nt ---\n",
      "--- Loaded graph in: 116.82717657089233 seconds ---\n"
     ]
    }
   ],
   "source": [
    "from src.preprocessing.prepare_data import load_data_config, load_graph\n",
    "# Load configurations\n",
    "data_config = load_data_config()\n",
    "# Load the RDF graph\n",
    "graph = load_graph(data_config['paths']['graph'])"
   ]
  },
  {
   "cell_type": "code",
   "execution_count": 4,
   "metadata": {},
   "outputs": [],
   "source": [
    "from src.global_variables import film_entities\n",
    "find_movie_predicates(film_entities, graph)"
   ]
  },
  {
   "cell_type": "code",
   "execution_count": 5,
   "metadata": {},
   "outputs": [
    {
     "ename": "FileNotFoundError",
     "evalue": "[Errno 2] No such file or directory: 'data/processed/aggr_ans_dict.pkl'",
     "output_type": "error",
     "traceback": [
      "\u001b[1;31m---------------------------------------------------------------------------\u001b[0m",
      "\u001b[1;31mFileNotFoundError\u001b[0m                         Traceback (most recent call last)",
      "Cell \u001b[1;32mIn[5], line 1\u001b[0m\n\u001b[1;32m----> 1\u001b[0m \u001b[43mupdate_predicate_dict_with_crowd_data\u001b[49m\u001b[43m(\u001b[49m\u001b[43mgraph\u001b[49m\u001b[43m)\u001b[49m\n",
      "File \u001b[1;32mc:\\Users\\Nadia Timoleon\\Documents\\GitHub\\ATAI_bot\\src\\preprocessing\\prepare_data.py:98\u001b[0m, in \u001b[0;36mupdate_predicate_dict_with_crowd_data\u001b[1;34m(graph)\u001b[0m\n\u001b[0;32m     96\u001b[0m data_config \u001b[38;5;241m=\u001b[39m load_data_config()\n\u001b[0;32m     97\u001b[0m predicate_dict \u001b[38;5;241m=\u001b[39m load_pickle(data_config[\u001b[38;5;124m'\u001b[39m\u001b[38;5;124mpaths_processed\u001b[39m\u001b[38;5;124m'\u001b[39m][\u001b[38;5;124m'\u001b[39m\u001b[38;5;124mpredicate_dict\u001b[39m\u001b[38;5;124m'\u001b[39m])\n\u001b[1;32m---> 98\u001b[0m \u001b[38;5;28;01mwith\u001b[39;00m \u001b[38;5;28;43mopen\u001b[39;49m\u001b[43m(\u001b[49m\u001b[43mdata_config\u001b[49m\u001b[43m[\u001b[49m\u001b[38;5;124;43m'\u001b[39;49m\u001b[38;5;124;43mpaths_processed\u001b[39;49m\u001b[38;5;124;43m'\u001b[39;49m\u001b[43m]\u001b[49m\u001b[43m[\u001b[49m\u001b[38;5;124;43m'\u001b[39;49m\u001b[38;5;124;43maggr_ans_dict\u001b[39;49m\u001b[38;5;124;43m'\u001b[39;49m\u001b[43m]\u001b[49m\u001b[43m,\u001b[49m\u001b[43m \u001b[49m\u001b[38;5;124;43m'\u001b[39;49m\u001b[38;5;124;43mrb\u001b[39;49m\u001b[38;5;124;43m'\u001b[39;49m\u001b[43m)\u001b[49m \u001b[38;5;28;01mas\u001b[39;00m handle:\n\u001b[0;32m     99\u001b[0m     aggr_ans_dict \u001b[38;5;241m=\u001b[39m pickle\u001b[38;5;241m.\u001b[39mload(handle)\n\u001b[0;32m    100\u001b[0m \u001b[38;5;28;01mif\u001b[39;00m graph \u001b[38;5;129;01mis\u001b[39;00m \u001b[38;5;28;01mNone\u001b[39;00m:\n",
      "\u001b[1;31mFileNotFoundError\u001b[0m: [Errno 2] No such file or directory: 'data/processed/aggr_ans_dict.pkl'"
     ]
    }
   ],
   "source": [
    "update_predicate_dict_with_crowd_data(graph)"
   ]
  },
  {
   "cell_type": "code",
   "execution_count": 5,
   "metadata": {},
   "outputs": [],
   "source": [
    "generate_label_mappings(graph)"
   ]
  },
  {
   "cell_type": "code",
   "execution_count": 6,
   "metadata": {},
   "outputs": [],
   "source": [
    "from src.global_variables import film_entities\n",
    "generate_special_movies(film_entities)"
   ]
  },
  {
   "cell_type": "code",
   "execution_count": null,
   "metadata": {},
   "outputs": [],
   "source": []
  }
 ],
 "metadata": {
  "kernelspec": {
   "display_name": "atai_bot",
   "language": "python",
   "name": "python3"
  },
  "language_info": {
   "codemirror_mode": {
    "name": "ipython",
    "version": 3
   },
   "file_extension": ".py",
   "mimetype": "text/x-python",
   "name": "python",
   "nbconvert_exporter": "python",
   "pygments_lexer": "ipython3",
   "version": "3.10.14"
  }
 },
 "nbformat": 4,
 "nbformat_minor": 2
}
